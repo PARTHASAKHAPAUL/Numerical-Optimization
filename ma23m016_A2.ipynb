{
 "cells": [
  {
   "cell_type": "markdown",
   "id": "52a71ba9",
   "metadata": {},
   "source": [
    "# Q. 1 Implement the conjugate gradient (refined version) algorithm and use to it solve linear systems in which A is the Hilbert matrix,\n",
    "    whose elements are\n",
    "    A_(i,j) = 1/(i + j − 1).\n",
    "    \n",
    "    Set the right-hand-side to b\n",
    "    T = (1, 1, . . . , 1), and the initial point to x0 = 0. Try dimensions\n",
    "    n = 5, 8, 12, 20 and report the number of iterations required to reduce the residual below\n",
    "    10^−7."
   ]
  },
  {
   "cell_type": "code",
   "execution_count": 10,
   "id": "2046ae6a",
   "metadata": {},
   "outputs": [
    {
     "name": "stdout",
     "output_type": "stream",
     "text": [
      "Number of iterations needed:\n",
      "n = 5: 5 iterations\n",
      "n = 8: 17 iterations\n",
      "n = 12: 67 iterations\n",
      "n = 20: 468 iterations\n"
     ]
    }
   ],
   "source": [
    "import numpy as np\n",
    "\n",
    "def hilbert_matrix(n):\n",
    "    \"\"\"Create an n x n Hilbert matrix.\"\"\"\n",
    "    H = np.zeros((n, n))  # Initialize an n-by-n matrix with zeros\n",
    "    for i in range(n):  # Loop over rows\n",
    "        for j in range(n):  # Loop over columns\n",
    "            H[i, j] = 1 / (i + 1 + j + 1 - 1)  # Set element H[i, j] using the Hilbert matrix formula\n",
    "    return H  # Return Hilbert matrix\n",
    "\n",
    "def conjugate_gradient(A, b, tol=1e-7, x0=None):\n",
    "    \"\"\"Conjugate Gradient Algorithm to solve Ax = b.\"\"\"\n",
    "    n = A.shape[0]  # the dimension of the matrix A\n",
    "    if x0 is None:  # Check if initial guess x0 is provided\n",
    "        x = np.zeros(n)  # If not provided, initialize x as a zero vector\n",
    "    else:\n",
    "        x = x0  # Use the provided initial guess\n",
    "    r = np.dot(A, x) - b  # Calculate the initial residual r_0 = Ax_0 - b\n",
    "    p = -r  # Set initial direction p_0 to -r_0\n",
    "    res_old = np.dot(r.T, r)  # Calculate the square of the norm of r_0\n",
    "    iterations = 0  # Initialize iteration counter\n",
    "\n",
    "    while np.sqrt(res_old) > tol:  # While the norm of r is greater than tolerance\n",
    "        Ap = np.dot(A, p)  # Compute A*p_k\n",
    "        alpha = res_old / np.dot(p.T, Ap)  # Compute step size alpha_k\n",
    "        x = x + alpha * p  # Update the solution x_k+1 = x_k + alpha_k * p_k\n",
    "        r = r + alpha * Ap  # Update the residual r_k+1 = r_k + alpha_k * A * p_k\n",
    "        res_new = np.dot(r.T, r)  # Calculate the new square of the norm of r\n",
    "        if np.sqrt(res_new) < tol:  # If the norm of the new residual is less than tolerance, stop\n",
    "            break\n",
    "        beta = res_new / res_old  # Calculate the coefficient beta_k+1\n",
    "        p = -r + beta * p  # Update direction p_k+1 = -r_k+1 + beta_k+1 * p_k\n",
    "        res_old = res_new  # Update old residual square for next iteration\n",
    "        iterations += 1  # Increment iteration counter\n",
    "\n",
    "    return x, iterations  # Return the solution and the number of iterations\n",
    "\n",
    "# Testing for dimensions 5, 8, 12, 20\n",
    "dimensions = [5, 8, 12, 20]\n",
    "results = {}\n",
    "\n",
    "for n in dimensions:\n",
    "    H = hilbert_matrix(n)  # the n-by-n Hilbert matrix\n",
    "    b = np.ones(n)  # the right-hand side vector b with all ones\n",
    "    x0 = np.zeros(n)  # the start vector x0 with all zeros\n",
    "    x, iters = conjugate_gradient(H, b, x0=x0)  # Solve the system using CG\n",
    "    results[n] = iters  # Store the number of iterations\n",
    "\n",
    "print(\"Number of iterations needed:\")\n",
    "for n in sorted(results.keys()):\n",
    "    print(f\"n = {n}: {results[n]} iterations\")  # Print the number of iterations for each dimension\n"
   ]
  },
  {
   "cell_type": "code",
   "execution_count": null,
   "id": "802c6ecb",
   "metadata": {},
   "outputs": [],
   "source": []
  }
 ],
 "metadata": {
  "kernelspec": {
   "display_name": "Python 3 (ipykernel)",
   "language": "python",
   "name": "python3"
  },
  "language_info": {
   "codemirror_mode": {
    "name": "ipython",
    "version": 3
   },
   "file_extension": ".py",
   "mimetype": "text/x-python",
   "name": "python",
   "nbconvert_exporter": "python",
   "pygments_lexer": "ipython3",
   "version": "3.10.7"
  }
 },
 "nbformat": 4,
 "nbformat_minor": 5
}
